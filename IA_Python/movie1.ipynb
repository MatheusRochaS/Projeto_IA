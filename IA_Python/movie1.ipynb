{
 "cells": [
  {
   "cell_type": "code",
   "execution_count": 85,
   "metadata": {},
   "outputs": [
    {
     "data": {
      "text/plain": [
       "<Axes: ylabel='genres'>"
      ]
     },
     "execution_count": 85,
     "metadata": {},
     "output_type": "execute_result"
    },
    {
     "data": {
      "image/png": "[encoded data removed]",
      "text/plain": [
       "<Figure size 640x480 with 1 Axes>"
      ]
     },
     "metadata": {},
     "output_type": "display_data"
    }
   ],
   "source": [
    "import pandas as pd\n",
    "import numpy as np\n",
    "import matplotlib.pyplot as plt\n",
    "import seaborn as sns\n",
    "import plotly.express as px\n",
    "\n",
    "movie = pd.read_csv('/workspaces/Projeto_IA/BD/TMDB_Test.csv')\n",
    "\n",
    "movie['genres'] = movie['genres'].str.replace('[\\[\\]\\'\\']', '', regex=True)\n",
    "movie['genres'] = movie['genres'].str.split(',')\n",
    "movie = movie.explode('genres')\n",
    "movie['genres'] = movie['genres'].str.split(' & ')\n",
    "movie = movie.explode('genres')\n",
    "movie['genres'] = movie['genres'].str.split(', ')\n",
    "movie = movie.explode('genres')\n",
    "\n",
    "movie['genres'].value_counts()[:10].plot(kind='barh')"
   ]
  },
  {
   "cell_type": "code",
   "execution_count": 86,
   "metadata": {},
   "outputs": [
    {
     "data": {
      "text/html": [
       "<div>\n",
       "<style scoped>\n",
       "    .dataframe tbody tr th:only-of-type {\n",
       "        vertical-align: middle;\n",
       "    }\n",
       "\n",
       "    .dataframe tbody tr th {\n",
       "        vertical-align: top;\n",
       "    }\n",
       "\n",
       "    .dataframe thead th {\n",
       "        text-align: right;\n",
       "    }\n",
       "</style>\n",
       "<table border=\"1\" class=\"dataframe\">\n",
       "  <thead>\n",
       "    <tr style=\"text-align: right;\">\n",
       "      <th></th>\n",
       "      <th>Quantidade</th>\n",
       "    </tr>\n",
       "    <tr>\n",
       "      <th>Gênero:</th>\n",
       "      <th></th>\n",
       "    </tr>\n",
       "  </thead>\n",
       "  <tbody>\n",
       "    <tr>\n",
       "      <th>Drama</th>\n",
       "      <td>56</td>\n",
       "    </tr>\n",
       "    <tr>\n",
       "      <th>Animation</th>\n",
       "      <td>24</td>\n",
       "    </tr>\n",
       "    <tr>\n",
       "      <th>Crime</th>\n",
       "      <td>22</td>\n",
       "    </tr>\n",
       "    <tr>\n",
       "      <th>Action</th>\n",
       "      <td>21</td>\n",
       "    </tr>\n",
       "    <tr>\n",
       "      <th>Sci-Fi</th>\n",
       "      <td>19</td>\n",
       "    </tr>\n",
       "    <tr>\n",
       "      <th>Comedy</th>\n",
       "      <td>13</td>\n",
       "    </tr>\n",
       "    <tr>\n",
       "      <th>Documentary</th>\n",
       "      <td>10</td>\n",
       "    </tr>\n",
       "    <tr>\n",
       "      <th>Mystery</th>\n",
       "      <td>5</td>\n",
       "    </tr>\n",
       "    <tr>\n",
       "      <th>Family</th>\n",
       "      <td>2</td>\n",
       "    </tr>\n",
       "    <tr>\n",
       "      <th>Talk</th>\n",
       "      <td>1</td>\n",
       "    </tr>\n",
       "    <tr>\n",
       "      <th>Kids</th>\n",
       "      <td>1</td>\n",
       "    </tr>\n",
       "  </tbody>\n",
       "</table>\n",
       "</div>"
      ],
      "text/plain": [
       "             Quantidade\n",
       "Gênero:                \n",
       "Drama                56\n",
       "Animation            24\n",
       "Crime                22\n",
       "Action               21\n",
       "Sci-Fi               19\n",
       "Comedy               13\n",
       "Documentary          10\n",
       "Mystery               5\n",
       "Family                2\n",
       "Talk                  1\n",
       "Kids                  1"
      ]
     },
     "execution_count": 86,
     "metadata": {},
     "output_type": "execute_result"
    }
   ],
   "source": [
    "import pandas as pd\n",
    "\n",
    "# Carregando o arquivo CSV\n",
    "movie = pd.read_csv('/workspaces/Projeto_IA/BD/TMDB_Test.csv')\n",
    "\n",
    "# Separando os diferentes gêneros e criando uma nova coluna com o primeiro gênero\n",
    "movie['Gênero:'] = movie['genres'].str.split(',').str[0]\n",
    "\n",
    "# Agrupando e contando as ocorrências do primeiro gênero\n",
    "movie['Gênero:'].value_counts().to_frame('Quantidade')\n"
   ]
  },
  {
   "cell_type": "code",
   "execution_count": 4,
   "metadata": {},
   "outputs": [
    {
     "name": "stdout",
     "output_type": "stream",
     "text": [
      "Selecione um gênero:\n",
      "1. Action\n",
      "2. Drama\n",
      "3. Fantasy\n",
      "4. Documentary\n",
      "5. Comedy\n",
      "6. Animation\n",
      "7. Crime\n",
      "8. Music\n",
      "9. Adventure\n",
      "10. Mystery\n",
      "11. Sci-Fi\n",
      "12. Mystery\n",
      "13. Family\n"
     ]
    },
    {
     "name": "stdout",
     "output_type": "stream",
     "text": [
      "=-=-=-=-=-=-=-=-=-=-=-=-=-=-=-=-=\n",
      "Recomendações de séries/animes no gênero 'Family':\n",
      "                      name\n",
      "63   Malcolm in the Middle\n",
      "113  SpongeBob SquarePants\n",
      "51          Anne with an E\n",
      "15            The Simpsons\n",
      "170               S Club 7\n"
     ]
    }
   ],
   "source": [
    "import pandas as pd\n",
    "import numpy as np\n",
    "import matplotlib.pyplot as plt\n",
    "import seaborn as sns\n",
    "import plotly.express as px\n",
    "import random\n",
    "\n",
    "movie = pd.read_csv('/workspaces/Projeto_IA/BD/TMDB_Test.csv')\n",
    "\n",
    "movie['genres'] = movie['genres'].str.split(',')\n",
    "\n",
    "\n",
    "def recommend_movies_by_genre(input_genre,num_recommendations=5):\n",
    "\n",
    "    filtered_movies = movie[movie['genres'].apply(lambda x: input_genre in x if isinstance(x, list) else False)]\n",
    "\n",
    "\n",
    "    if filtered_movies.empty:\n",
    "        print(f\"Nenhum filme encontrado no gênero '{input_genre}'\")\n",
    "        return\n",
    "\n",
    "\n",
    "    recommendations = filtered_movies.sample(num_recommendations)\n",
    "\n",
    "    return recommendations\n",
    "\n",
    "genre_dict = {\n",
    "    1: 'Action',2: 'Drama',3: 'Fantasy',4: 'Documentary',5: 'Comedy',6: 'Animation',7: 'Crime',8: 'Music',9: 'Adventure',10: 'Mystery',11: 'Sci-Fi', 12: 'Mystery', 13: 'Family'\n",
    "}\n",
    "\n",
    "print(\"Selecione um gênero:\")\n",
    "for num, genre in genre_dict.items():\n",
    "    print(f\"{num}. {genre}\")\n",
    "\n",
    "selected_genre = None\n",
    "while selected_genre not in genre_dict:\n",
    "    try:\n",
    "        selected_genre = int(input(\"\\n Digite o número do gênero desejado: \"))\n",
    "    except ValueError:\n",
    "        pass\n",
    "\n",
    "input_genre = genre_dict[selected_genre]\n",
    "\n",
    "recommendations = recommend_movies_by_genre(input_genre)\n",
    "\n",
    "if recommendations is not None:\n",
    "    print(f\"=-=-=-=-=-=-=-=-=-=-=-=-=-=-=-=-=\\nRecomendações de séries/animes no gênero '{input_genre}':\")\n",
    "    print(recommendations[['name']])"
   ]
  }
 ],
 "metadata": {
  "kernelspec": {
   "display_name": "Python 3",
   "language": "python",
   "name": "python3"
  },
  "language_info": {
   "codemirror_mode": {
    "name": "ipython",
    "version": 3
   },
   "file_extension": ".py",
   "mimetype": "text/x-python",
   "name": "python",
   "nbconvert_exporter": "python",
   "pygments_lexer": "ipython3",
   "version": "3.10.8"
  }
 },
 "nbformat": 4,
 "nbformat_minor": 2
}
